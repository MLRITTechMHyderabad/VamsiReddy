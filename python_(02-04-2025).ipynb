{
 "cells": [
  {
   "cell_type": "code",
   "execution_count": 3,
   "metadata": {},
   "outputs": [
    {
     "name": "stdout",
     "output_type": "stream",
     "text": [
      "2\n"
     ]
    },
    {
     "data": {
      "text/plain": [
       "<function __main__.do_op.<locals>.inner()>"
      ]
     },
     "execution_count": 3,
     "metadata": {},
     "output_type": "execute_result"
    }
   ],
   "source": [
    "def do_op(a,b,c):\n",
    "    def inner():\n",
    "        print(b**2)\n",
    "    print(a(b,c))\n",
    "    return inner\n",
    "def sub(a,b):\n",
    "    return a - b\n",
    "do_op(sub,5,3)\n"
   ]
  },
  {
   "cell_type": "code",
   "execution_count": null,
   "metadata": {},
   "outputs": [],
   "source": [
    "# 1. Print transpose matrix\n",
    "# 2. find max and min element from matrix\n",
    "# 3. merge two dictionaries\n",
    "# 4. group the number in a dictionary (frequency of the numbers in the list)\n",
    "# 5. count number of words in a paragraph and store it in a dictionary"
   ]
  },
  {
   "cell_type": "code",
   "execution_count": 3,
   "metadata": {},
   "outputs": [],
   "source": [
    "import numpy as np\n",
    "import pandas as pd"
   ]
  },
  {
   "cell_type": "code",
   "execution_count": null,
   "metadata": {},
   "outputs": [
    {
     "data": {
      "text/plain": [
       "array([[1, 4, 7],\n",
       "       [2, 5, 8],\n",
       "       [3, 6, 9]])"
      ]
     },
     "execution_count": 5,
     "metadata": {},
     "output_type": "execute_result"
    }
   ],
   "source": [
    "# 1. Print transpose matrix\n",
    "\n",
    "mat = [[1,2,3],[4,5,6],[7,8,9]]\n",
    "mat_t = np.transpose(mat)\n",
    "mat_t"
   ]
  },
  {
   "cell_type": "code",
   "execution_count": 64,
   "metadata": {},
   "outputs": [
    {
     "name": "stdout",
     "output_type": "stream",
     "text": [
      "[1, 4, 7, 2, 5, 8, 3, 6, 9]\n"
     ]
    }
   ],
   "source": [
    "# 1. Print transpose matrix without using built-in functions\n",
    "\n",
    "mat = [[1,2,3],\n",
    "       [4,5,6],\n",
    "       [7,8,9]]\n",
    "mat_t = []\n",
    "for i in range(0,len(mat)):\n",
    "    for j in range(0,len(mat[i])):\n",
    "       mat_t.append(mat[j][i])\n",
    "print(mat_t)\n",
    "       \n",
    "\n",
    "    \n"
   ]
  },
  {
   "cell_type": "code",
   "execution_count": null,
   "metadata": {},
   "outputs": [
    {
     "name": "stdout",
     "output_type": "stream",
     "text": [
      "The minimum element is  1\n",
      "The maximun element is  9\n"
     ]
    }
   ],
   "source": [
    "# 2. find max and min element from matrix without using built-in functions\n",
    "\n",
    "mat = [[1,2,3],\n",
    "       [4,5,6],\n",
    "       [7,8,9]]\n",
    "max = mat[0][0]\n",
    "min = mat[0][0]\n",
    "for i in range(0,len(mat)):\n",
    "    for j in range(0,len(mat[i])):\n",
    "        if mat[i][j] > max:\n",
    "            max = mat[i][j]\n",
    "        if mat[i][j] < min:\n",
    "            min = mat[i][j]\n",
    "print(\"The minimum element is \",min)\n",
    "print(\"The maximun element is \",max)\n"
   ]
  },
  {
   "cell_type": "code",
   "execution_count": 10,
   "metadata": {},
   "outputs": [
    {
     "name": "stdout",
     "output_type": "stream",
     "text": [
      "Enter the matrix elements row-wise:\n",
      "The minimum element is 1\n",
      "The maximum element is 9\n"
     ]
    }
   ],
   "source": [
    "rows = int(input(\"Enter number of rows: \"))\n",
    "cols = int(input(\"Enter number of columns: \"))\n",
    "\n",
    "# Taking matrix input row-wise\n",
    "mat = []\n",
    "print(\"Enter the matrix elements row-wise:\")\n",
    "for i in range(rows):\n",
    "    mat.append(list(map(int, input().split())))\n",
    "\n",
    "# Initialize min and max with the first element of the matrix\n",
    "min_element = mat[0][0]\n",
    "max_element = mat[0][0]\n",
    "\n",
    "# Find min and max in the matrix\n",
    "for i in range(rows):\n",
    "    for j in range(cols):\n",
    "        if mat[i][j] > max_element:\n",
    "            max_element = mat[i][j]\n",
    "        if mat[i][j] < min_element:\n",
    "            min_element = mat[i][j]\n",
    "\n",
    "print(\"The minimum element is\", min_element)\n",
    "print(\"The maximum element is\", max_element)\n"
   ]
  },
  {
   "cell_type": "code",
   "execution_count": null,
   "metadata": {},
   "outputs": [
    {
     "name": "stdout",
     "output_type": "stream",
     "text": [
      "1\n",
      "9\n"
     ]
    }
   ],
   "source": [
    "# 2. find max and min element from matrix\n",
    "\n",
    "mat = np.array([[1,2,3],\n",
    "       [4,5,6],\n",
    "       [7,8,9]])\n",
    "\n",
    "print(np.min(mat))\n",
    "print(np.max(mat))\n",
    "\n"
   ]
  },
  {
   "cell_type": "code",
   "execution_count": 30,
   "metadata": {},
   "outputs": [
    {
     "name": "stdout",
     "output_type": "stream",
     "text": [
      "{'name': 'vamsi', 'age': 23, 'location': 'HYD'}\n"
     ]
    }
   ],
   "source": [
    "# 3. merge two dictionaries\n",
    "\n",
    "d1 = {\"name\":\"vamsi\",\"age\":23}\n",
    "d2 = {\"location\":\"HYD\"}\n",
    "print(d1|d2)"
   ]
  },
  {
   "cell_type": "code",
   "execution_count": 18,
   "metadata": {},
   "outputs": [],
   "source": [
    "# 4. group the number in a dictionary (frequency of the numbers in the list)\n",
    "string = \"India is one of the strongest countries in the world. It is the seventh largest country in the world area-wise and the second most populous country in the world. India shares its borders with countries like Pakistan, Afghanistan, China, Nepal, Bhutan, Myanmar and Bangladesh. It also shares its borders with Sri Lanka and the Maldives. It is a secular and democratic country that respects all religions and the people of India have the liberty to practise any religion they want. India believes in nonviolence and therefore, Mahatma Gandhi is known as the father of the Nation because of his non-violent contribution to the freedom movement of the country. The tri-coloured national flag is known as Tiranga which has the Ashoka Chakra at the centre. The national emblem of the country is the Lion Capital of Ashoka.The Param Vir Chakra is India’s highest military decoration, given to those who have shown courage. Soldiers who put their lives on the line to safeguard residents are Indias heroes. Pandit Jawaharlal Nehru, often known as Pandit Nehru or Chacha Nehru, was India’s first prime minister. India is a land of many festivals, different dressing styles, and different food styles. People of different castes, creeds, and colours also live peacefully in India, and this is how it sets a perfect example of Unity in Diversity\"\n",
    "new_string = string.split(' ')"
   ]
  },
  {
   "cell_type": "code",
   "execution_count": 17,
   "metadata": {},
   "outputs": [
    {
     "name": "stdout",
     "output_type": "stream",
     "text": [
      "The total number of vowels are  4 they are : ['o', 'o', 'o', 'i']\n"
     ]
    }
   ],
   "source": [
    "s = \"Good Morning\"\n",
    "vowels = \"aeiouAEIOU\"\n",
    "v = []\n",
    "c = 0\n",
    "for i in s:\n",
    "    if i in vowels:\n",
    "        v.append(i)\n",
    "        c += 1\n",
    "print(\"The total number of vowels are \",c,\"they are :\",v)\n"
   ]
  },
  {
   "cell_type": "code",
   "execution_count": null,
   "metadata": {},
   "outputs": [
    {
     "name": "stdout",
     "output_type": "stream",
     "text": [
      "[(1, 1), (1, 2), (1, 3), (1, 4), (1, 5), (1, 6), (2, 1), (2, 2), (2, 3), (2, 4), (2, 5), (2, 6), (3, 1), (3, 2), (3, 3), (3, 4), (3, 5), (3, 6), (4, 1), (4, 2), (4, 3), (4, 4), (4, 5), (4, 6), (5, 1), (5, 2), (5, 3), (5, 4), (5, 5), (5, 6), (6, 1), (6, 2), (6, 3), (6, 4), (6, 5), (6, 6)] \n",
      "{'2': 2.78, '3': 5.56, '4': 8.33, '5': 11.11, '6': 13.89, '7': 16.67, '8': 13.89, '9': 11.11, '10': 8.33, '11': 5.56, '12': 2.78}\n",
      "\n",
      "player 1 rolled  5 3  and player 2 rolled  6 1\n",
      "player 1 dice sum is 8 and player 2 dice sum is 7\n",
      "\n",
      "player 1 rolled  6 5  and player 2 rolled  6 3\n",
      "player 1 dice sum is 11 and player 2 dice sum is 9\n",
      "\n",
      "player 1 rolled  2 1  and player 2 rolled  3 6\n",
      "player 1 dice sum is 3 and player 2 dice sum is 9\n",
      "\n",
      "Finally player 1 won the game\n"
     ]
    }
   ],
   "source": [
    "dice_1 = [1,2,3,4,5,6]\n",
    "dice_2 = [1,2,3,4,5,6]\n",
    "combination = []\n",
    "for i in dice_1:\n",
    "    for j in dice_2:\n",
    "        c = i,j\n",
    "        combination.append(c)\n",
    "print(combination,end=' ')\n",
    "print()\n",
    "di = {}\n",
    "for i in range(2,13):\n",
    "    co = 0 \n",
    "    for j in combination:\n",
    "        s = j[0] + j[1]\n",
    "        if s == i:\n",
    "            co += 1\n",
    "    di[str(i)] = round((co/len(combination))*100,2)\n",
    "print(di)\n",
    "print()\n",
    "\n",
    "R = int(input(\"Enter the number of rounds\"))\n",
    "player_1_win = 0\n",
    "player_2_win = 0\n",
    "draw = 0\n",
    "for i in range(R):\n",
    "    p1_d1,p1_d2 = np.random.randint(1,7),np.random.randint(1,7)\n",
    "    p2_d1,p2_d2 = np.random.randint(1,7),np.random.randint(1,7)\n",
    "    print(\"player 1 rolled \",p1_d1,p1_d2,\" and player 2 rolled \",p2_d1,p2_d2)\n",
    "    p1_dice_sum = p1_d1 + p1_d2\n",
    "    p2_dice_sum = p2_d1 + p2_d2\n",
    "    print(\"player 1 dice sum is\",p1_dice_sum,\"and player 2 dice sum is\",p2_dice_sum)\n",
    "    print()\n",
    "    if di[str(p1_dice_sum)] < di[str(p2_dice_sum)]:\n",
    "        player_1_win += 1\n",
    "    elif di[str(p1_dice_sum)] > di[str(p2_dice_sum)]:\n",
    "        player_2_win += 1\n",
    "    else:\n",
    "        draw += 1\n",
    "if player_1_win > player_2_win:\n",
    "    print(\"Finally player 1 won the game\")\n",
    "elif player_1_win < player_2_win:\n",
    "    print(\"Finally player 2 won the game\")\n",
    "else:\n",
    "    print(\"The game is draw\")"
   ]
  }
 ],
 "metadata": {
  "kernelspec": {
   "display_name": "base",
   "language": "python",
   "name": "python3"
  },
  "language_info": {
   "codemirror_mode": {
    "name": "ipython",
    "version": 3
   },
   "file_extension": ".py",
   "mimetype": "text/x-python",
   "name": "python",
   "nbconvert_exporter": "python",
   "pygments_lexer": "ipython3",
   "version": "3.9.16"
  }
 },
 "nbformat": 4,
 "nbformat_minor": 2
}
